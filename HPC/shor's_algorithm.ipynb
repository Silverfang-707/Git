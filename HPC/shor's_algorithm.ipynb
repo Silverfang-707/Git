{
 "cells": [
  {
   "cell_type": "code",
   "execution_count": 1,
   "metadata": {},
   "outputs": [],
   "source": [
    "import cirq\n",
    "import math"
   ]
  },
  {
   "cell_type": "code",
   "execution_count": 2,
   "metadata": {},
   "outputs": [],
   "source": [
    "# Number to factor\n",
    "N = 15"
   ]
  },
  {
   "cell_type": "code",
   "execution_count": 3,
   "metadata": {},
   "outputs": [],
   "source": [
    "# Quantum register\n",
    "qubits = cirq.LineQubit.range(8)"
   ]
  },
  {
   "cell_type": "code",
   "execution_count": 4,
   "metadata": {},
   "outputs": [],
   "source": [
    "# Quantum circuit\n",
    "circuit = cirq.Circuit()"
   ]
  },
  {
   "cell_type": "code",
   "execution_count": 5,
   "metadata": {},
   "outputs": [],
   "source": [
    "# Hadamard gates\n",
    "for i in range(4):\n",
    "    circuit.append(cirq.H(qubits[i]))"
   ]
  },
  {
   "cell_type": "code",
   "execution_count": 6,
   "metadata": {},
   "outputs": [],
   "source": [
    "# Controlled-U gates\n",
    "for control in range(4):\n",
    "    for k in range(2**control):\n",
    "        circuit.append(cirq.CNOT(qubits[control], qubits[4]))\n",
    "        circuit.append(cirq.CNOT(qubits[control], qubits[5]))\n",
    "        circuit.append(cirq.CNOT(qubits[control], qubits[7]))"
   ]
  },
  {
   "cell_type": "code",
   "execution_count": 7,
   "metadata": {},
   "outputs": [],
   "source": [
    "# Inverse QFT\n",
    "for i in range(4):\n",
    "    for j in range(i):\n",
    "        circuit.append(cirq.CZPowGate(exponent=-0.5/(2**(i-j))).on(qubits[j], qubits[i]))\n",
    "    circuit.append(cirq.H(qubits[i]))"
   ]
  },
  {
   "cell_type": "code",
   "execution_count": 8,
   "metadata": {},
   "outputs": [],
   "source": [
    "# Measurement\n",
    "circuit.append(cirq.measure(*qubits[:4], key='result'))"
   ]
  },
  {
   "cell_type": "code",
   "execution_count": 9,
   "metadata": {},
   "outputs": [
    {
     "name": "stdout",
     "output_type": "stream",
     "text": [
      "              ┌──┐   ┌──┐           ┌──┐   ┌──┐                                         ┌──┐   ┌──┐\n",
      "0: ───H───@────@──────@─────H─────────────────────@───────────────────────────────────────────────────@────────────────────────────────────────────────────────────────────────────────────────────────────@────────────────────────────────────M('result')───\n",
      "          │    │      │                           │                                                   │                                                                                                    │                                    │\n",
      "1: ───H───┼────┼@─────┼@────@───@────@──────@─────@^-0.25───H─────────────────────────────────────────┼──────────@─────────────────────────────────────────────────────────────────────────────────────────┼───────────@────────────────────────M─────────────\n",
      "          │    ││     ││    │   │    │      │                                                         │          │                                                                                         │           │                        │\n",
      "2: ───H───┼────┼┼─────┼┼────┼───┼────┼@─────┼@────@─────────@───@───@───@───@───@───@────@──────@─────@^(-1/8)───@^-0.25───H───────────────────────────────────────────────────────────────────────────────┼───────────┼──────────@─────────────M─────────────\n",
      "          │    ││     ││    │   │    ││     ││    │         │   │   │   │   │   │   │    │      │                                                                                                          │           │          │             │\n",
      "3: ───H───┼────┼┼─────┼┼────┼───┼────┼┼─────┼┼────┼─────────┼───┼───┼───┼───┼───┼───┼────┼@─────┼@────@──────────@─────────@───@───@───@───@───@───@───@───@───@───@───@───@───@───@───@───@───@───@───@───@^(-1/16)───@^(-1/8)───@^-0.25───H───M─────────────\n",
      "          │    ││     ││    │   │    ││     ││    │         │   │   │   │   │   │   │    ││     ││    │          │         │   │   │   │   │   │   │   │   │   │   │   │   │   │   │   │   │   │   │   │\n",
      "4: ───────X────┼X─────┼┼────┼───X────┼X─────┼┼────┼─────────X───┼───┼───X───┼───┼───X────┼X─────┼┼────┼──────────X─────────┼───┼───X───┼───┼───X───┼───┼───X───┼───┼───X───┼───┼───X───┼───┼───X───┼───┼──────────────────────────────────────────────────────\n",
      "               │      ││    │        │      ││    │             │   │       │   │        │      ││    │                    │   │       │   │       │   │       │   │       │   │       │   │       │   │\n",
      "5: ────────────X──────┼X────┼────────X──────┼X────┼─────────────X───┼───────X───┼────────X──────┼X────┼────────────────────X───┼───────X───┼───────X───┼───────X───┼───────X───┼───────X───┼───────X───┼──────────────────────────────────────────────────────\n",
      "                      │     │               │     │                 │           │               │     │                        │           │           │           │           │           │           │\n",
      "7: ───────────────────X─────X───────────────X─────X─────────────────X───────────X───────────────X─────X────────────────────────X───────────X───────────X───────────X───────────X───────────X───────────X──────────────────────────────────────────────────────\n",
      "              └──┘   └──┘           └──┘   └──┘                                         └──┘   └──┘\n"
     ]
    }
   ],
   "source": [
    "# Display the circuit\n",
    "print(circuit)"
   ]
  }
 ],
 "metadata": {
  "kernelspec": {
   "display_name": "machine_learning_3.10",
   "language": "python",
   "name": "python3"
  },
  "language_info": {
   "codemirror_mode": {
    "name": "ipython",
    "version": 3
   },
   "file_extension": ".py",
   "mimetype": "text/x-python",
   "name": "python",
   "nbconvert_exporter": "python",
   "pygments_lexer": "ipython3",
   "version": "3.10.14"
  }
 },
 "nbformat": 4,
 "nbformat_minor": 2
}
