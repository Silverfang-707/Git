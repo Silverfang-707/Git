{
 "cells": [
  {
   "cell_type": "code",
   "execution_count": 1,
   "metadata": {},
   "outputs": [],
   "source": [
    "import cirq\n",
    "import numpy as np"
   ]
  },
  {
   "cell_type": "code",
   "execution_count": 2,
   "metadata": {},
   "outputs": [],
   "source": [
    "def grover_circuit(target_state):\n",
    "    # Number of qubits\n",
    "    n = len(target_state)\n",
    "\n",
    "    # Quantum register\n",
    "    qubits = cirq.LineQubit.range(n)\n",
    "\n",
    "    # Quantum circuit\n",
    "    circuit = cirq.Circuit()\n",
    "\n",
    "    # Hadamard gates\n",
    "    circuit.append(cirq.H(qubit) for qubit in qubits)\n",
    "\n",
    "    # Oracle and diffusion operator\n",
    "    for _ in range(int(np.pi/4*np.sqrt(2**n))):\n",
    "        # Oracle\n",
    "        circuit.append(cirq.X(qubit) for qubit in qubits)\n",
    "        circuit.append(cirq.H(qubits[-1]))\n",
    "        # Replace MCX with a combination of CCX and additional gates as necessary\n",
    "        circuit.append(cirq.CCX(qubits[0], qubits[1], qubits[-1]))\n",
    "        circuit.append(cirq.H(qubits[-1]))\n",
    "        circuit.append(cirq.X(qubit) for qubit in qubits)\n",
    "\n",
    "        # Diffusion operator\n",
    "        circuit.append(cirq.H(qubit) for qubit in qubits)\n",
    "        circuit.append(cirq.X(qubit) for qubit in qubits)\n",
    "        circuit.append(cirq.H(qubits[-1]))\n",
    "        # Replace MCX with a combination of CCX and additional gates as necessary\n",
    "        circuit.append(cirq.CCX(qubits[0], qubits[1], qubits[-1]))\n",
    "        circuit.append(cirq.H(qubits[-1]))\n",
    "        circuit.append(cirq.X(qubit) for qubit in qubits)\n",
    "        circuit.append(cirq.H(qubit) for qubit in qubits)\n",
    "\n",
    "    # Measurement\n",
    "    circuit.append(cirq.measure(*qubits, key='result'))\n",
    "\n",
    "    return circuit"
   ]
  },
  {
   "cell_type": "code",
   "execution_count": 3,
   "metadata": {},
   "outputs": [
    {
     "name": "stdout",
     "output_type": "stream",
     "text": [
      "                  ┌──┐                       ┌──┐                       ┌──┐\n",
      "0: ───H───X────────@─────X───H───X────────────@─────X───H───X────────────@─────X───H───X───────────@───X───H───X───────────@───X───H───X───────────@───X───H───────M('result')───\n",
      "                   │                          │                          │                         │                       │                       │               │\n",
      "1: ───H───X────────@─────X───H───X────────────@─────X───H───X────────────@─────X───H───X───────────@───X───H───X───────────@───X───H───X───────────@───X───H───────M─────────────\n",
      "                   │                          │                          │                         │                       │                       │               │\n",
      "2: ───H───X───X────┼H────X───X───H───X───X────┼H────X───X───H───X───X────┼H────X───X───H───────────┼───────────────────────┼───────────────────────┼───────────────M─────────────\n",
      "                   │                          │                          │                         │                       │                       │               │\n",
      "3: ───H───X───H────X─────H───X───H───X───H────X─────H───X───H───X───H────X─────H───X───H───X───H───X───H───X───H───X───H───X───H───X───H───X───H───X───H───X───H───M─────────────\n",
      "                  └──┘                       └──┘                       └──┘\n"
     ]
    }
   ],
   "source": [
    "# Target state\n",
    "target_state = '1101'\n",
    "\n",
    "# Create and print the Grover circuit\n",
    "circuit = grover_circuit(target_state)\n",
    "print(circuit)"
   ]
  }
 ],
 "metadata": {
  "kernelspec": {
   "display_name": "machine_learning_3.10",
   "language": "python",
   "name": "python3"
  },
  "language_info": {
   "codemirror_mode": {
    "name": "ipython",
    "version": 3
   },
   "file_extension": ".py",
   "mimetype": "text/x-python",
   "name": "python",
   "nbconvert_exporter": "python",
   "pygments_lexer": "ipython3",
   "version": "3.10.14"
  }
 },
 "nbformat": 4,
 "nbformat_minor": 2
}
